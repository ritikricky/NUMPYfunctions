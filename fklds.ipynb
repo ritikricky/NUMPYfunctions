{
 "cells": [
  {
   "cell_type": "code",
   "execution_count": 11,
   "metadata": {},
   "outputs": [
    {
     "name": "stdout",
     "output_type": "stream",
     "text": [
      "[[1, 2], [3, 4], [5, 6]]\n"
     ]
    }
   ],
   "source": [
    "class Numpy:\n",
    "    def __init__(self,p):\n",
    "        self.p=p\n",
    "    def reshape(self,row ,column):\n",
    "        array=self.p\n",
    "        res=list()\n",
    "        i=0  \n",
    "        j=0\n",
    "        c=column\n",
    "        while i<row:\n",
    "            k=[]\n",
    "            \n",
    "            while j<c:\n",
    "                k.append(array[j])\n",
    "                j+=1\n",
    "            res.append(k)\n",
    "            c+=column\n",
    "        \n",
    "            i+=1\n",
    "        print(res)\n",
    "    \n",
    "        \n",
    "def main():\n",
    "    \n",
    "    a=[1,2,3,4,5,6]\n",
    "    o=Numpy(a)\n",
    "    o.reshape(3,2)\n",
    "    \n",
    "    \n",
    "\n",
    "if __name__=='__main__':\n",
    "    main()\n",
    "   "
   ]
  },
  {
   "cell_type": "code",
   "execution_count": 27,
   "metadata": {},
   "outputs": [
    {
     "name": "stdout",
     "output_type": "stream",
     "text": [
      "<class 'list'>\n"
     ]
    }
   ],
   "source": [
    "def check(a,c):\n",
    "    k=a[0]\n",
    "    \n",
    "    if type(k)=='list':\n",
    "        c+=1\n",
    "        check(k[0],c)\n",
    "    else:\n",
    "        return c\n",
    "a=[[[1,2],3],[3,4]]\n",
    "print(type(a[0]))       \n",
    "\n",
    "    "
   ]
  },
  {
   "cell_type": "code",
   "execution_count": 18,
   "metadata": {},
   "outputs": [
    {
     "data": {
      "text/plain": [
       "list"
      ]
     },
     "execution_count": 18,
     "metadata": {},
     "output_type": "execute_result"
    }
   ],
   "source": [
    "type([1,2,3])"
   ]
  },
  {
   "cell_type": "code",
   "execution_count": 49,
   "metadata": {},
   "outputs": [
    {
     "name": "stdout",
     "output_type": "stream",
     "text": [
      "[1, 2, 3, 4, 5, 6]\n",
      "[[1, 2], [3, 4], [5, 6]]\n",
      "1*6\n",
      "3*2\n"
     ]
    }
   ],
   "source": [
    "class cumpy:\n",
    "    def __init__(self,a):\n",
    "        self.a=a\n",
    "    def ndim(self):\n",
    "        arr=self.a\n",
    "        if isinstance(arr[0],int):\n",
    "            print(\"1-D\")\n",
    "        else:\n",
    "            print(\"2-D\")\n",
    "            \n",
    "    def shape(self):\n",
    "        arr=self.a\n",
    "        row=len(arr)\n",
    "        if isinstance(arr[0],int):\n",
    "            print(\"1*{}\".format(row))\n",
    "        else:\n",
    "            column=len(arr[0])\n",
    "            print(\"{0}*{1}\".format(row,column))\n",
    "    \n",
    "    def reval(self):\n",
    "        arr=self.a\n",
    "        list=[]\n",
    "        row=len(arr)\n",
    "        col=len(arr[0])\n",
    "        for i in range(0,row):\n",
    "            for j in range(0,col):\n",
    "                list.append(arr[i][j])\n",
    "        return(list)\n",
    "    \n",
    "    def reshape(self,r,c):\n",
    "        array=self.a\n",
    "        arr=cumpy.reval(self)\n",
    "        l=[]\n",
    "        d=0\n",
    "        for i in range(0,r):\n",
    "            k=[]\n",
    "            for j in range(0,c):\n",
    "                k.append(arr[d])\n",
    "                d+=1\n",
    "            l.append(k)\n",
    "        return(l)\n",
    "    \n",
    "def main():\n",
    "    arr=[1,2,3,4,5,6]\n",
    "    array=[[1,2],[3,4],[5,6]]\n",
    "    p=cumpy(arr)\n",
    "    o=cumpy(array)\n",
    "    print(o.reval())\n",
    "    print(o.reshape(3,2))\n",
    "    p.shape()\n",
    "    o.shape()\n",
    "    \n",
    "    \n",
    "if __name__==\"__main__\":\n",
    "    main()\n",
    "        \n",
    "            \n",
    "            \n",
    "    "
   ]
  },
  {
   "cell_type": "code",
   "execution_count": 46,
   "metadata": {},
   "outputs": [
    {
     "name": "stdout",
     "output_type": "stream",
     "text": [
      "waklkla\n"
     ]
    },
    {
     "data": {
      "text/plain": [
       "True"
      ]
     },
     "execution_count": 46,
     "metadata": {},
     "output_type": "execute_result"
    }
   ],
   "source": [
    "a=3\n",
    "if isinstance(a,int):\n",
    "    print(\"waklkla\")\n",
    "isinstance(a,int)"
   ]
  },
  {
   "cell_type": "code",
   "execution_count": null,
   "metadata": {},
   "outputs": [],
   "source": []
  }
 ],
 "metadata": {
  "kernelspec": {
   "display_name": "Python 3",
   "language": "python",
   "name": "python3"
  },
  "language_info": {
   "codemirror_mode": {
    "name": "ipython",
    "version": 3
   },
   "file_extension": ".py",
   "mimetype": "text/x-python",
   "name": "python",
   "nbconvert_exporter": "python",
   "pygments_lexer": "ipython3",
   "version": "3.7.3"
  }
 },
 "nbformat": 4,
 "nbformat_minor": 2
}
